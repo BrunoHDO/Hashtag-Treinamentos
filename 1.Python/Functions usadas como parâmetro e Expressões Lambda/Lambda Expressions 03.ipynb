{
 "cells": [
  {
   "cell_type": "markdown",
   "metadata": {},
   "source": [
    "# Lambda Expressions para gerar funções\n",
    "\n",
    "### Descrição\n",
    "\n",
    "- Uma das aplicações de lambda expressions, além da vista na aula passada, é criar um \"gerador de funções\". Nesse caso, usaremos a lambda expressions dentro da definição de uma outra função\n",
    "\n",
    "### Exemplo:\n",
    "\n",
    "1. Vamos criar uma função que me permita calcular o valor acrescido do imposto de diferentes categorias (produto, serviço, royalties, etc.)"
   ]
  },
  {
   "cell_type": "code",
   "execution_count": 1,
   "metadata": {},
   "outputs": [],
   "source": [
    "# produto 0.1\n",
    "#serviço 0.15\n",
    "#royalties 0.25\n",
    "\n",
    "def calcular_imposto(imposto):\n",
    "    return lambda valor : valor * (1 + imposto)"
   ]
  },
  {
   "cell_type": "markdown",
   "metadata": {},
   "source": [
    "- Agora vamos definir as funções que calculam o imposto das 3 categorias (produto, serviço, royalties)"
   ]
  },
  {
   "cell_type": "code",
   "execution_count": 9,
   "metadata": {},
   "outputs": [
    {
     "name": "stdout",
     "output_type": "stream",
     "text": [
      "Impostos do produto: 110.00\n",
      "Impostos do serviço: 115.00\n",
      "Impostos do royalties: 125.00\n",
      "Total imposto: 140.00\n"
     ]
    }
   ],
   "source": [
    "produto = float(input('Valor do produto'))\n",
    "\n",
    "imposto_produto = calcular_imposto(0.1)\n",
    "imposto_servico = calcular_imposto(0.15)\n",
    "imposto_royalties = calcular_imposto(0.25)\n",
    "total_imposto = calcular_imposto(0.4)\n",
    "\n",
    "print(f'Impostos do produto: {imposto_produto(produto):.2f}')\n",
    "print(f'Impostos do serviço: {imposto_servico(produto):.2f}')\n",
    "print(f'Impostos do royalties: {imposto_royalties(produto):.2f}')\n",
    "print(f'Total imposto: {total_imposto(produto):.2f}')"
   ]
  },
  {
   "cell_type": "markdown",
   "metadata": {},
   "source": [
    "- Agora vamos aplicar com um valor de nota fiscal de 100 para ver o resultado"
   ]
  },
  {
   "cell_type": "code",
   "execution_count": null,
   "metadata": {},
   "outputs": [],
   "source": []
  },
  {
   "cell_type": "markdown",
   "metadata": {},
   "source": [
    "### É menos usado do que a forma anterior que vimos, mas pode ser útil caso queira criar funções que possam ser adaptadas como vimos aqui"
   ]
  }
 ],
 "metadata": {
  "kernelspec": {
   "display_name": "Python 3",
   "language": "python",
   "name": "python3"
  },
  "language_info": {
   "codemirror_mode": {
    "name": "ipython",
    "version": 3
   },
   "file_extension": ".py",
   "mimetype": "text/x-python",
   "name": "python",
   "nbconvert_exporter": "python",
   "pygments_lexer": "ipython3",
   "version": "3.11.5"
  }
 },
 "nbformat": 4,
 "nbformat_minor": 4
}
