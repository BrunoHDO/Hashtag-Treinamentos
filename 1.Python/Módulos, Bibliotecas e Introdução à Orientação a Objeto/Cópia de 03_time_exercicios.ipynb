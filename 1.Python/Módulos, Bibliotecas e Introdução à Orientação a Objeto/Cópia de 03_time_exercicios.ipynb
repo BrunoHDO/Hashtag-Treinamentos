{
 "cells": [
  {
   "cell_type": "markdown",
   "metadata": {},
   "source": [
    "## Contagem regressiva\n",
    "\n",
    "Um evento especial está programado para começar em 10 segundos. Crie uma contagem regressiva que começa em 10 e vai até 0, com uma pausa de um segundo entre cada número.\n"
   ]
  },
  {
   "cell_type": "markdown",
   "metadata": {},
   "source": [
    " "
   ]
  },
  {
   "cell_type": "code",
   "execution_count": 8,
   "metadata": {},
   "outputs": [
    {
     "name": "stdout",
     "output_type": "stream",
     "text": [
      "O evento começou!!!\n"
     ]
    }
   ],
   "source": [
    "import time\n",
    "\n",
    "for numero in range(10, 0, -1):\n",
    "    print(numero, end=' \\r', flush=True)\n",
    "    time.sleep(1)\n",
    "\n",
    "print('O evento começou!!!')\n"
   ]
  },
  {
   "cell_type": "code",
   "execution_count": 12,
   "metadata": {},
   "outputs": [
    {
     "name": "stdout",
     "output_type": "stream",
     "text": [
      "O Tempo acabou!\n"
     ]
    }
   ],
   "source": [
    "import time\n",
    "\n",
    "contador = int(input('Contagem regressiva apartir: '))\n",
    "\n",
    "for numero in range(contador, 0, -1):\n",
    "    print(numero, end=' \\r', flush=True)\n",
    "    time.sleep(1)\n",
    "\n",
    "print('O Tempo acabou!')"
   ]
  },
  {
   "cell_type": "markdown",
   "metadata": {},
   "source": [
    "## Formatação de tempo\n",
    "\n",
    "Uma empresa quer exibir a data e a hora atual em seu site no formato \"Dia da semana, dia do mês de mês de ano, horas:minutos\". Crie um script Python que mostra a data e a hora atuais neste formato.\n",
    "\n"
   ]
  },
  {
   "cell_type": "code",
   "execution_count": 13,
   "metadata": {},
   "outputs": [
    {
     "data": {
      "text/plain": [
       "'pt-br.UTF-8'"
      ]
     },
     "execution_count": 13,
     "metadata": {},
     "output_type": "execute_result"
    }
   ],
   "source": [
    "import locale\n",
    "\n",
    "locale.setlocale(locale.LC_TIME, 'pt-BR.UTF-8')\n",
    "\n",
    "tempo = time.localtime()\n",
    "\n",
    "tempo_formatado = time.strftime('%A, %d de %B/')"
   ]
  }
 ],
 "metadata": {
  "kernelspec": {
   "display_name": "Python 3 (ipykernel)",
   "language": "python",
   "name": "python3"
  },
  "language_info": {
   "codemirror_mode": {
    "name": "ipython",
    "version": 3
   },
   "file_extension": ".py",
   "mimetype": "text/x-python",
   "name": "python",
   "nbconvert_exporter": "python",
   "pygments_lexer": "ipython3",
   "version": "3.11.5"
  }
 },
 "nbformat": 4,
 "nbformat_minor": 4
}
