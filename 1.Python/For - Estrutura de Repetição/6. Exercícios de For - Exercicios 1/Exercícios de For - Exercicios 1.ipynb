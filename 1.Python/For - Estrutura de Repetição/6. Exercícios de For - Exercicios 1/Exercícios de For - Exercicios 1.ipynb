{
 "cells": [
  {
   "cell_type": "markdown",
   "metadata": {},
   "source": [
    "# Exercícios\n",
    "\n",
    "## 1. Criando um Registro de Hóspedes\n",
    "\n",
    "Digamos que você está criando o sistema para registrar a chegada de hóspedes em um hotel. No hotel, os hóspedes podem ter quartos com 1, 2, 3 e 4 pessoas. Seu sistema deve conseguir:\n",
    "\n",
    "1. Identificar quantas pessoas o hóspede que acabou de chegar vai ter no quarto (perguntando por meio de input)\n",
    "2. De acordo com a quantidade de pessoas do hóspede, ele deve fazer um for para perguntar o cpf e o nome de cada pessoa, a fim de registrá-la no quarto (2 inputs para cada pessoa, 1 para o cpf e outro para o nome)\n",
    "3. O seu programa então deve gerar uma lista com todas as pessoas que ficarão no quarto em que cada item dessa lista é o nome da pessoa e o cpf da pessoa, assim:"
   ]
  },
  {
   "cell_type": "raw",
   "metadata": {},
   "source": [
    "quarto = [\n",
    "    ['João', 'cpf:00000000000'],\n",
    "    ['Julia', 'cpf:11111111111'],\n",
    "    ['Marcus', 'cpf:22222222222'],\n",
    "    ['Maria', 'cpf:33333333333'],\n",
    "]"
   ]
  },
  {
   "cell_type": "markdown",
   "metadata": {},
   "source": [
    "- Para simplificar, não vamos nos preocupar com possibilidades de \"tentar colocar mais de 1 hóspede, digitar o cpf errado, etc. Nosso objetivo é treinar a criação de uma rotina de cadastro"
   ]
  },
  {
   "cell_type": "code",
   "execution_count": 4,
   "metadata": {},
   "outputs": [
    {
     "name": "stdout",
     "output_type": "stream",
     "text": [
      "[['a', 1], ['b', 2], ['c', 3], ['d', 4]]\n"
     ]
    }
   ],
   "source": [
    "#seu código aqui\n",
    "qntd_pessoas = int(input('Quantas pessoa vão ficar no quarto: '))\n",
    "quarto = []\n",
    "\n",
    "for i in range(qntd_pessoas):\n",
    "    nome = str(input('Qual é o nome: '))\n",
    "    cpf  = int(input('Qual é o cpf: '))\n",
    "    hospede = [nome, cpf]\n",
    "    quarto.append(hospede)\n",
    "\n",
    "print(quarto)"
   ]
  },
  {
   "cell_type": "markdown",
   "metadata": {},
   "source": [
    "## 2. Análise de Vendas\n",
    "\n",
    "Nesse exercício vamos fazer uma \"análise simples\" de atingimento de Meta.\n",
    "\n",
    "Temos uma lista com os vendedores e os valores de vendas e queremos identificar (printar) quais os vendedores que bateram a meta e qual foi o valor que eles venderam."
   ]
  },
  {
   "cell_type": "code",
   "execution_count": 11,
   "metadata": {},
   "outputs": [
    {
     "name": "stdout",
     "output_type": "stream",
     "text": [
      "Vendedor(a) João bateu a meta, e fez 15000 de vendas\n",
      "Vendedor(a) Julia bateu a meta, e fez 27000 de vendas\n",
      "Vendedor(a) Ana bateu a meta, e fez 10300 de vendas\n"
     ]
    }
   ],
   "source": [
    "meta = 10000\n",
    "vendas = [\n",
    "    ['João', 15000],\n",
    "    ['Julia', 27000],\n",
    "    ['Marcus', 9900],\n",
    "    ['Maria', 3750],\n",
    "    ['Ana', 10300],\n",
    "    ['Alon', 7870],\n",
    "]\n",
    "#seu código aqui\n",
    "for i in vendas:\n",
    "    if i[1] >= meta:\n",
    "        print(f'Vendedor(a) {i[0]} bateu a meta, e fez {i[1]} de vendas')"
   ]
  },
  {
   "cell_type": "markdown",
   "metadata": {},
   "source": [
    "## 3. Comparação com Ano Anterior\n",
    "\n",
    "Digamos que você está analisando as vendas de produtos de um ecommerce e quer identificar quais produtos tiveram no ano de 2020 mais vendas do que no ano de 2019, para reportar isso para a diretoria.\n",
    "\n",
    "Sua resposta pode ser um print de cada produto, qual foi a venda de 2019, a venda de 2020 e o % de crescimento de 2020 para 2019.\n",
    "\n",
    "Lembrando, para calcular o % de crescimento de um produto de um ano para o outro, podemos fazer: (vendas_produto2020/vendas_produto2019 - 1)\n",
    "\n",
    "Dica: lembre do enumerate, ele pode facilitar seu \"for\""
   ]
  },
  {
   "cell_type": "code",
   "execution_count": 11,
   "metadata": {},
   "outputs": [
    {
     "name": "stdout",
     "output_type": "stream",
     "text": [
      "O iphone vendeu R$558,147 em 2019, e R$951,642 em 2020. Obtendo um crescimento de 70.5% em comparação com 2019\n",
      "O tv vendeu R$405,252 em 2019, e R$787,604 em 2020. Obtendo um crescimento de 94.3% em comparação com 2019\n",
      "O máquina de café vendeu R$718,654 em 2019, e R$867,660 em 2020. Obtendo um crescimento de 20.7% em comparação com 2019\n",
      "O notebook dell vendeu R$422,760 em 2019, e R$694,913 em 2020. Obtendo um crescimento de 64.4% em comparação com 2019\n",
      "O notebook hp vendeu R$154,753 em 2019, e R$539,704 em 2020. Obtendo um crescimento de 248.8% em comparação com 2019\n",
      "O microsoft surface vendeu R$438,508 em 2019, e R$667,179 em 2020. Obtendo um crescimento de 52.1% em comparação com 2019\n",
      "O webcam vendeu R$237,467 em 2019, e R$295,633 em 2020. Obtendo um crescimento de 24.5% em comparação com 2019\n",
      "O caixa de som vendeu R$489,705 em 2019, e R$725,316 em 2020. Obtendo um crescimento de 48.1% em comparação com 2019\n",
      "O microfone vendeu R$328,311 em 2019, e R$644,622 em 2020. Obtendo um crescimento de 96.3% em comparação com 2019\n",
      "O câmera canon vendeu R$591,120 em 2019, e R$994,303 em 2020. Obtendo um crescimento de 68.2% em comparação com 2019\n"
     ]
    }
   ],
   "source": [
    "produtos = ['iphone', 'galaxy', 'ipad', 'tv', 'máquina de café', 'kindle', 'geladeira', 'adega', 'notebook dell', 'notebook hp', 'notebook asus', 'microsoft surface', 'webcam', 'caixa de som', 'microfone', 'câmera canon']\n",
    "vendas2019 = [558147,712350,573823,405252,718654,531580,973139,892292,422760,154753,887061,438508,237467,489705,328311,591120]\n",
    "vendas2020 = [951642,244295,26964,787604,867660,78830,710331,646016,694913,539704,324831,667179,295633,725316,644622,994303]\n",
    "#seu código aqui\n",
    "\n",
    "for i, produto in enumerate(produtos):\n",
    "    if vendas2020[i] > vendas2019[i]:\n",
    "        crescimento = vendas2020[i] / vendas2019[i] -1\n",
    "        print(f'O {produto} vendeu R${vendas2019[i]:,} em 2019, e R${vendas2020[i]:,} em 2020. Obtendo um crescimento de {crescimento:.1%} em comparação com 2019')"
   ]
  }
 ],
 "metadata": {
  "kernelspec": {
   "display_name": "Python 3",
   "language": "python",
   "name": "python3"
  },
  "language_info": {
   "codemirror_mode": {
    "name": "ipython",
    "version": 3
   },
   "file_extension": ".py",
   "mimetype": "text/x-python",
   "name": "python",
   "nbconvert_exporter": "python",
   "pygments_lexer": "ipython3",
   "version": "3.11.5"
  }
 },
 "nbformat": 4,
 "nbformat_minor": 4
}
