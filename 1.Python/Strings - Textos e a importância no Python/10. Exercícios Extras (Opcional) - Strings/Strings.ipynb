{
 "cells": [
  {
   "cell_type": "markdown",
   "id": "2b04bbea",
   "metadata": {},
   "source": [
    "# Strings\n",
    "\n",
    "<span style=\"color: red;\"><b>Todos os exercícios são feitos partindo-se do pressuposto de que todas as entradas são dadas de forma correta. Casos limite não mencionados no enunciado não são abordados porque não fazem parte do exercício.</b></span>"
   ]
  },
  {
   "cell_type": "markdown",
   "id": "5b1f33b9",
   "metadata": {},
   "source": [
    "#### 1. Tamanho de strings. Faça um programa que leia 2 strings e informe o conteúdo delas seguido do seu comprimento. Informe também se as duas strings possuem o mesmo comprimento e são iguais ou diferentes no conteúdo.\n",
    "<pre>\n",
    "Compara duas strings\n",
    "String 1: Brasil Hexa 2006\n",
    "String 2: Brasil! Hexa 2006!\n",
    "Tamanho de \"Brasil Hexa 2006\": 16 caracteres\n",
    "Tamanho de \"Brasil! Hexa 2006!\": 18 caracteres\n",
    "As duas strings são de tamanhos diferentes.\n",
    "As duas strings possuem conteúdo diferente.\n",
    "</pre>"
   ]
  },
  {
   "cell_type": "code",
   "execution_count": 4,
   "id": "c492b657",
   "metadata": {},
   "outputs": [
    {
     "name": "stdout",
     "output_type": "stream",
     "text": [
      "O texto 1 é: Brasil Hexa 2006. É possui 16 de caracteres\n",
      "O texto 1 é: Brasil! Hexa 2006!. É possui 18 de caracteres\n",
      "Os textos não possuem tamanho iguais\n",
      "Os textos não possuem o mesmo conteúdo\n"
     ]
    }
   ],
   "source": [
    "string1 = input('String1: ')\n",
    "string2 = input('String2: ')\n",
    "\n",
    "print(f'O texto 1 é: {string1}. É possui {len(string1)} de caracteres')\n",
    "print(f'O texto 1 é: {string2}. É possui {len(string2)} de caracteres')\n",
    "\n",
    "#As duas strings são de tamanhos diferentes\n",
    "if len(string1) == len(string2):\n",
    "    print('Os dois textos tem tamnaho iguais')\n",
    "else:\n",
    "    print('Os textos não possuem tamanho iguais')\n",
    "\n",
    "#As duas strings possuem conteúdo diferente\n",
    "if string1 == string2:\n",
    "    print('Os textos possuem o mesmo conteúdo')\n",
    "else:\n",
    "    print('Os textos não possuem o mesmo conteúdo')"
   ]
  },
  {
   "cell_type": "markdown",
   "id": "c3068a53",
   "metadata": {},
   "source": [
    "#### 2. Valida e corrige número de telefone. Faça um programa que leia um número de telefone, e corrija o número no caso deste conter somente 7 dígitos, acrescentando o '3' na frente. O usuário pode informar o número com ou sem o traço separador.\n",
    "<pre>\n",
    "Valida e corrige número de telefone\n",
    "Telefone: 461-0133\n",
    "Telefone possui 7 dígitos. Vou acrescentar o digito três na frente.\n",
    "Telefone corrigido sem formatação: 34610133\n",
    "Telefone corrigido com formatação: 3461-0133\n",
    "</pre>"
   ]
  },
  {
   "cell_type": "code",
   "execution_count": 10,
   "id": "0308566d",
   "metadata": {},
   "outputs": [
    {
     "name": "stdout",
     "output_type": "stream",
     "text": [
      "Telefone é: 12345678\n"
     ]
    }
   ],
   "source": [
    "telefone = input('Digite o numero de telefone: ')\n",
    "\n",
    "telefone = telefone.strip()\n",
    "telefone = telefone.replace('-', '')\n",
    "\n",
    "if len(telefone) == 8:\n",
    "    print(f'Telefone é: {telefone}')\n",
    "else:\n",
    "    print('Digite o telefone corretamente')"
   ]
  }
 ],
 "metadata": {
  "kernelspec": {
   "display_name": "Python 3 (ipykernel)",
   "language": "python",
   "name": "python3"
  },
  "language_info": {
   "codemirror_mode": {
    "name": "ipython",
    "version": 3
   },
   "file_extension": ".py",
   "mimetype": "text/x-python",
   "name": "python",
   "nbconvert_exporter": "python",
   "pygments_lexer": "ipython3",
   "version": "3.11.4"
  }
 },
 "nbformat": 4,
 "nbformat_minor": 5
}
