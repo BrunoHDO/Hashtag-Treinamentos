{
 "cells": [
  {
   "cell_type": "markdown",
   "metadata": {},
   "source": [
    "# Exercícios\n",
    "\n",
    "## 1. Faturamento do Melhor e do Pior Mês do Ano\n",
    "\n",
    "Qual foi o valor de vendas do melhor mês do Ano?\n",
    "E valor do pior mês do ano?"
   ]
  },
  {
   "cell_type": "code",
   "execution_count": 1,
   "metadata": {},
   "outputs": [],
   "source": [
    "meses = ['jan', 'fev', 'mar', 'abr', 'mai', 'jun', 'jul', 'ago', 'set', 'out', 'nov', 'dez']\n",
    "vendas_1sem = [25000, 29000, 22200, 17750, 15870, 19900]\n",
    "vendas_2sem = [19850, 20120, 17540, 15555, 49051, 9650]"
   ]
  },
  {
   "cell_type": "markdown",
   "metadata": {},
   "source": [
    "## 2. Continuação\n",
    "\n",
    "Agora relacione as duas listas para printar 'O melhor mês do ano foi {} com {} vendas' e o mesmo para o pior mês do ano.\n",
    "\n",
    "Calcule também o faturamento total do Ano e quanto que o melhor mês representou do faturamento total.\n",
    "\n",
    "Obs: Para o faturamento total, pode usar a função sum(lista) que soma todos os itens de uma lista"
   ]
  },
  {
   "cell_type": "code",
   "execution_count": 38,
   "metadata": {},
   "outputs": [
    {
     "name": "stdout",
     "output_type": "stream",
     "text": [
      "O maior mês foi nov com total de 49,051\n",
      "O maior mês foi dez com total de 9,650\n",
      "O faturamento foi de R$261,486\n",
      "O maior valor de vendas em nov de 49,051 representou no faturamento toal 18.8%\n"
     ]
    }
   ],
   "source": [
    "#juntar os semestres\n",
    "vendas_total = vendas_1sem + vendas_2sem\n",
    "#calcular o mes com maior vendas e o menor\n",
    "vendas_max = max(vendas_total)\n",
    "vendas_min = min(vendas_total)\n",
    "mes_max = vendas_total.index(vendas_max)\n",
    "mes_min = vendas_total.index(vendas_min)\n",
    "\n",
    "print(f'O maior mês foi {meses[mes_max]} com total de {vendas_max:,}')\n",
    "print(f'O maior mês foi {meses[mes_min]} com total de {vendas_min:,}')\n",
    "\n",
    "#calcule o faturamento\n",
    "faturamento = sum(vendas_total)\n",
    "print(f'O faturamento foi de R${faturamento:,}')\n",
    "\n",
    "#quanto que o melhor mes represtentou no faturamento\n",
    "\n",
    "porcentagem = vendas_max / faturamento\n",
    "print(f'O maior valor de vendas em {meses[mes_max]} de {vendas_max:,} representou no faturamento toal {porcentagem:.1%}')"
   ]
  },
  {
   "cell_type": "markdown",
   "metadata": {},
   "source": [
    "## 3. Crie uma lista com o top 3 valores de vendas do ano (sem fazer \"no olho\")\n",
    "\n",
    "Dica: o método remove retira um item da lista."
   ]
  },
  {
   "cell_type": "code",
   "execution_count": 45,
   "metadata": {},
   "outputs": [
    {
     "name": "stdout",
     "output_type": "stream",
     "text": [
      "[49051, 29000, 25000]\n"
     ]
    }
   ],
   "source": [
    "vendas_total.sort(reverse=True)\n",
    "print(vendas_total[0:3])"
   ]
  }
 ],
 "metadata": {
  "kernelspec": {
   "display_name": "Python 3",
   "language": "python",
   "name": "python3"
  },
  "language_info": {
   "codemirror_mode": {
    "name": "ipython",
    "version": 3
   },
   "file_extension": ".py",
   "mimetype": "text/x-python",
   "name": "python",
   "nbconvert_exporter": "python",
   "pygments_lexer": "ipython3",
   "version": "3.8.3"
  }
 },
 "nbformat": 4,
 "nbformat_minor": 4
}
